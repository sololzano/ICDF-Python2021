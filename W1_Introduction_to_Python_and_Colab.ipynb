{
  "nbformat": 4,
  "nbformat_minor": 0,
  "metadata": {
    "colab": {
      "name": "W1_Introduction to Python and Colab.ipynb",
      "provenance": [],
      "collapsed_sections": [],
      "authorship_tag": "ABX9TyNTIrhiSMVLlFd9Lw0R2YAP",
      "include_colab_link": true
    },
    "kernelspec": {
      "name": "python3",
      "display_name": "Python 3"
    },
    "language_info": {
      "name": "python"
    }
  },
  "cells": [
    {
      "cell_type": "markdown",
      "metadata": {
        "id": "view-in-github",
        "colab_type": "text"
      },
      "source": [
        "<a href=\"https://colab.research.google.com/github/sololzano/ICDF-Python2021/blob/main/W1_Introduction_to_Python_and_Colab.ipynb\" target=\"_parent\"><img src=\"https://colab.research.google.com/assets/colab-badge.svg\" alt=\"Open In Colab\"/></a>"
      ]
    },
    {
      "cell_type": "markdown",
      "metadata": {
        "id": "Y5brz-XM7j-t"
      },
      "source": [
        "# Introduction to Python"
      ]
    },
    {
      "cell_type": "markdown",
      "metadata": {
        "id": "CrYvpB-L7079"
      },
      "source": [
        "## Basic Types\n",
        "Data types that don't need to be declared specifically. Built-in method <code>type()</code> returns the type of the argument (variable, literal or expression). \n",
        "\n",
        "<b>Integer</b>\n",
        "<ul>\n",
        "  <li> Parent class <i>int</i>.\n",
        "  <li> -10, 10, 0.\n",
        "</ul>\n",
        "\n",
        "<b>Float</b>\n",
        "<ul>\n",
        "  <li> Parent class <i>float</i>.\n",
        "  <li> Floating point numbers (including IEEE754).\n",
        "  <li> -2.34, 1.5e6\n",
        "</ul>\n",
        "\n",
        "<b>Bool</b>\n",
        "<ul>\n",
        "  <li> Parent class <i>bool</i>.\n",
        "  <li> Represents state (on/off, true/false).\n",
        "  <li> True, False\n",
        "</ul>\n",
        "\n",
        "<b>String</b>\n",
        "<ul>\n",
        "  <li> Parent class <i>str</i>.\n",
        "  <li> Characters and words.\n",
        "  <li> Specified with single or double quote marks (' ', \" \").\n",
        "  <li> 'House', \"Car\"."
      ]
    },
    {
      "cell_type": "code",
      "metadata": {
        "colab": {
          "base_uri": "https://localhost:8080/"
        },
        "id": "L7kbZyPD73Y0",
        "outputId": "4a4ff59f-9cd9-4b91-f848-3f201a907425"
      },
      "source": [
        "# Integer\n",
        "type(10)"
      ],
      "execution_count": null,
      "outputs": [
        {
          "output_type": "execute_result",
          "data": {
            "text/plain": [
              "int"
            ]
          },
          "metadata": {},
          "execution_count": 1
        }
      ]
    },
    {
      "cell_type": "code",
      "metadata": {
        "colab": {
          "base_uri": "https://localhost:8080/"
        },
        "id": "-DAgLQtm_HV-",
        "outputId": "58345dc4-0a61-45f3-95a5-984e60dcf4a8"
      },
      "source": [
        "# Float\n",
        "type(5.1)"
      ],
      "execution_count": null,
      "outputs": [
        {
          "output_type": "execute_result",
          "data": {
            "text/plain": [
              "float"
            ]
          },
          "metadata": {},
          "execution_count": 2
        }
      ]
    },
    {
      "cell_type": "code",
      "metadata": {
        "colab": {
          "base_uri": "https://localhost:8080/"
        },
        "id": "X9lFaREY_NdX",
        "outputId": "0f1677c0-abbc-4d48-ea39-3e20573f6433"
      },
      "source": [
        "# Bool\n",
        "type(True)"
      ],
      "execution_count": null,
      "outputs": [
        {
          "output_type": "execute_result",
          "data": {
            "text/plain": [
              "bool"
            ]
          },
          "metadata": {},
          "execution_count": 3
        }
      ]
    },
    {
      "cell_type": "code",
      "metadata": {
        "colab": {
          "base_uri": "https://localhost:8080/"
        },
        "id": "q3zt_9U4_Pva",
        "outputId": "050efe6c-49cd-4662-a4b2-fddea16cbb2e"
      },
      "source": [
        "# String\n",
        "type('House')"
      ],
      "execution_count": null,
      "outputs": [
        {
          "output_type": "execute_result",
          "data": {
            "text/plain": [
              "str"
            ]
          },
          "metadata": {},
          "execution_count": 4
        }
      ]
    },
    {
      "cell_type": "markdown",
      "metadata": {
        "id": "yttU5TF3_SfS"
      },
      "source": [
        "### Type conversion between basic types\n",
        "Data can be transformed into other types by explicitly using the parent class as a function. <code>float(10)</code> converts the data <code>10</code> into a floating point number <code>10.0</code>. </br>\n",
        "\n",
        "<b>Integer to float</b>\n",
        "\n",
        "Can be done explicitly or implicitly. If the result of an expression or operation is a float, the value returned is going to be a float. \n",
        "<ul>\n",
        "  <li> Explicitly: <code>float(10)</code> --> <code>10.0</code>\n",
        "  <li> Implicitly: <code>10 * 1.0</code> --> <code>10.0</code>\n",
        "</ul>\n",
        "\n",
        "<b>Float to integer</b>\n",
        "\n",
        "Done explicitly. Division between two integers results always in a floating point number (with the exception of the <i>modulus</i> and <i>floor division</i>). When converting from <code>float</code> to <code>int</code>, the number will be floored (i.e. the floating part is removed).\n",
        "<ul>\n",
        "  <li> <code>int(5.9)</code> --> <code>5</code>\n",
        "  <li> <code>int(-0.99)</code> --> <code>0</code>\n",
        "</ul>\n",
        "\n",
        "<b>Bool to integer</b>\n",
        "\n",
        "Done explicitily. <code>False</code> returns <code>0</code>, <code>True</code> returns <code>1</code>.\n",
        "\n",
        "<b>Integer to bool</b>\n",
        "\n",
        "Done explicitly. Only <code>0</code> will result in <code>False</code> for the conversion. Any other number (either <code>float</code> or <code>int</code>) will result in <code>True</code>"
      ]
    },
    {
      "cell_type": "code",
      "metadata": {
        "colab": {
          "base_uri": "https://localhost:8080/"
        },
        "id": "D7BAceAfC6xs",
        "outputId": "db34a34d-b65d-4335-d1e5-744fc66088a5"
      },
      "source": [
        "# Float to Integer\n",
        "int(5.9)"
      ],
      "execution_count": null,
      "outputs": [
        {
          "output_type": "execute_result",
          "data": {
            "text/plain": [
              "5"
            ]
          },
          "metadata": {},
          "execution_count": 15
        }
      ]
    },
    {
      "cell_type": "code",
      "metadata": {
        "colab": {
          "base_uri": "https://localhost:8080/"
        },
        "id": "QqePtl8dDvnI",
        "outputId": "f1068862-2ab4-4de0-a600-d3e687b5cc86"
      },
      "source": [
        "# Modulus operator\n",
        "5 % 2 \n"
      ],
      "execution_count": null,
      "outputs": [
        {
          "output_type": "execute_result",
          "data": {
            "text/plain": [
              "1"
            ]
          },
          "metadata": {},
          "execution_count": 16
        }
      ]
    },
    {
      "cell_type": "code",
      "metadata": {
        "colab": {
          "base_uri": "https://localhost:8080/"
        },
        "id": "yJCo8kbIGRB0",
        "outputId": "c0623faa-3711-4a26-c79c-e5a227b508bf"
      },
      "source": [
        "# Floor division\n",
        "5 // 3"
      ],
      "execution_count": null,
      "outputs": [
        {
          "output_type": "execute_result",
          "data": {
            "text/plain": [
              "1"
            ]
          },
          "metadata": {},
          "execution_count": 17
        }
      ]
    },
    {
      "cell_type": "code",
      "metadata": {
        "colab": {
          "base_uri": "https://localhost:8080/"
        },
        "id": "B_VRyvuQGTDW",
        "outputId": "25b1166b-b158-4573-f1a9-56d2065cc3f4"
      },
      "source": [
        "# Integer to bool\n",
        "bool(1)"
      ],
      "execution_count": null,
      "outputs": [
        {
          "output_type": "execute_result",
          "data": {
            "text/plain": [
              "True"
            ]
          },
          "metadata": {},
          "execution_count": 18
        }
      ]
    },
    {
      "cell_type": "code",
      "metadata": {
        "colab": {
          "base_uri": "https://localhost:8080/"
        },
        "id": "d4LkJHZxGYYR",
        "outputId": "62da02da-9404-4b5e-d179-dc41fd89f174"
      },
      "source": [
        "# Integer to bool\n",
        "bool(0)"
      ],
      "execution_count": null,
      "outputs": [
        {
          "output_type": "execute_result",
          "data": {
            "text/plain": [
              "False"
            ]
          },
          "metadata": {},
          "execution_count": 19
        }
      ]
    },
    {
      "cell_type": "markdown",
      "metadata": {
        "id": "7Mz06y2BGalS"
      },
      "source": [
        "## Variables and Expressions\n",
        "Variables are data stored in RAM. They can be of any basic type or object. For basic types, the variable type is inferred from the data (no need to be declared explicitly). "
      ]
    },
    {
      "cell_type": "code",
      "metadata": {
        "colab": {
          "base_uri": "https://localhost:8080/"
        },
        "id": "BYymO4mjGmbF",
        "outputId": "ed52db92-41cb-4304-b6ce-90ec7aa986ba"
      },
      "source": [
        "# Integer variable\n",
        "a = 10\n",
        "type(a)"
      ],
      "execution_count": null,
      "outputs": [
        {
          "output_type": "execute_result",
          "data": {
            "text/plain": [
              "int"
            ]
          },
          "metadata": {},
          "execution_count": 20
        }
      ]
    },
    {
      "cell_type": "code",
      "metadata": {
        "colab": {
          "base_uri": "https://localhost:8080/"
        },
        "id": "gKxqToJVJ35r",
        "outputId": "bfda02b2-1c20-4a9a-fbee-f38c7c48a4b7"
      },
      "source": [
        "# Float variable \n",
        "b = 5.1\n",
        "type(b)"
      ],
      "execution_count": null,
      "outputs": [
        {
          "output_type": "execute_result",
          "data": {
            "text/plain": [
              "float"
            ]
          },
          "metadata": {},
          "execution_count": 22
        }
      ]
    },
    {
      "cell_type": "code",
      "metadata": {
        "colab": {
          "base_uri": "https://localhost:8080/"
        },
        "id": "lkltuL5fKCMe",
        "outputId": "f1ec18c3-d562-494a-8014-ffda9cff71c7"
      },
      "source": [
        "# Math expression assigned to variable\n",
        "c = (a + b) * 2\n",
        "type(c)"
      ],
      "execution_count": null,
      "outputs": [
        {
          "output_type": "execute_result",
          "data": {
            "text/plain": [
              "float"
            ]
          },
          "metadata": {},
          "execution_count": 23
        }
      ]
    },
    {
      "cell_type": "code",
      "metadata": {
        "colab": {
          "base_uri": "https://localhost:8080/"
        },
        "id": "9IAMfvNSKJXz",
        "outputId": "3bf4d904-1be2-4050-cd09-b4ae8ec3b2c0"
      },
      "source": [
        "# Show variables' values\n",
        "print(a)\n",
        "print(b)\n",
        "print(c)"
      ],
      "execution_count": null,
      "outputs": [
        {
          "output_type": "stream",
          "name": "stdout",
          "text": [
            "10\n",
            "5.1\n",
            "30.2\n"
          ]
        }
      ]
    },
    {
      "cell_type": "markdown",
      "metadata": {
        "id": "sIpx1sPkKOZG"
      },
      "source": [
        "## String operations\n",
        "A string <code>str</code> can be considered a sequence. Each item in the sequence has a zero-based index (i.e. first position equals index zero). This means the items within the string can be accessed by their corresponding indices. "
      ]
    },
    {
      "cell_type": "code",
      "metadata": {
        "id": "OwJiFU5LNex0",
        "colab": {
          "base_uri": "https://localhost:8080/",
          "height": 35
        },
        "outputId": "b0a39f29-7d5c-4fd9-c3b7-665597e3d410"
      },
      "source": [
        "# Indexing\n",
        "a = 'Python'\n",
        "a[0]"
      ],
      "execution_count": null,
      "outputs": [
        {
          "output_type": "execute_result",
          "data": {
            "application/vnd.google.colaboratory.intrinsic+json": {
              "type": "string"
            },
            "text/plain": [
              "'P'"
            ]
          },
          "metadata": {},
          "execution_count": 1
        }
      ]
    },
    {
      "cell_type": "code",
      "metadata": {
        "colab": {
          "base_uri": "https://localhost:8080/",
          "height": 35
        },
        "id": "Tr1nc2p3yjgB",
        "outputId": "e561011c-62d8-421b-ee64-c0014b5c21b5"
      },
      "source": [
        "# Negative indexing\n",
        "a[-2]"
      ],
      "execution_count": null,
      "outputs": [
        {
          "output_type": "execute_result",
          "data": {
            "application/vnd.google.colaboratory.intrinsic+json": {
              "type": "string"
            },
            "text/plain": [
              "'o'"
            ]
          },
          "metadata": {},
          "execution_count": 2
        }
      ]
    },
    {
      "cell_type": "code",
      "metadata": {
        "id": "O4nMtA9lyno-",
        "colab": {
          "base_uri": "https://localhost:8080/",
          "height": 35
        },
        "outputId": "2e1fb760-7625-4448-dfb6-0f026b3200f7"
      },
      "source": [
        "# Slicing\n",
        "a[1:3]"
      ],
      "execution_count": null,
      "outputs": [
        {
          "output_type": "execute_result",
          "data": {
            "application/vnd.google.colaboratory.intrinsic+json": {
              "type": "string"
            },
            "text/plain": [
              "'yt'"
            ]
          },
          "metadata": {},
          "execution_count": 3
        }
      ]
    },
    {
      "cell_type": "code",
      "metadata": {
        "colab": {
          "base_uri": "https://localhost:8080/",
          "height": 35
        },
        "id": "22WMtkK5bNOU",
        "outputId": "6a222f83-1376-4524-8cf8-4ba795ac7c8b"
      },
      "source": [
        "# Reversing\n",
        "a[::-1]"
      ],
      "execution_count": null,
      "outputs": [
        {
          "output_type": "execute_result",
          "data": {
            "application/vnd.google.colaboratory.intrinsic+json": {
              "type": "string"
            },
            "text/plain": [
              "'nohtyP'"
            ]
          },
          "metadata": {},
          "execution_count": 4
        }
      ]
    },
    {
      "cell_type": "markdown",
      "metadata": {
        "id": "HZvvK0SLb2vN"
      },
      "source": [
        "### Built-in functions for Strings\n",
        "<code>len()</code>\n",
        "\n",
        "Returns the length of the string.\n",
        "\n",
        "<code>str.upper()</code>, <code>str.lower()</code>\n",
        "\n",
        "String to uppercase or lowercase.\n",
        "\n",
        "<code>str.find()</code>\n",
        "\n",
        "Returns the index of the first occurence of the substring. -1 otherwise.\n",
        "\n",
        "<code>str.strip()</code>, <code>str.lstrip()</code>, <code>str.rstrip()</code>\n",
        "\n",
        "Removes leading and trailing spaces from the string."
      ]
    },
    {
      "cell_type": "code",
      "metadata": {
        "colab": {
          "base_uri": "https://localhost:8080/"
        },
        "id": "bMBCuxoZ2H6j",
        "outputId": "6aca47c4-ee85-4af2-b0f1-ac6039318e7b"
      },
      "source": [
        "# Lenght of a string\n",
        "s = 'Today is Saturday'\n",
        "print(len(s))"
      ],
      "execution_count": 1,
      "outputs": [
        {
          "output_type": "stream",
          "name": "stdout",
          "text": [
            "17\n"
          ]
        }
      ]
    },
    {
      "cell_type": "code",
      "metadata": {
        "colab": {
          "base_uri": "https://localhost:8080/"
        },
        "id": "Ch3dovKM2OMT",
        "outputId": "c1a01f2d-684a-4817-bf2d-9228f9a829c4"
      },
      "source": [
        "# Uppercase and lowercase\n",
        "s_upper = s.upper()\n",
        "s_lower = s.lower()\n",
        "print(s_upper)\n",
        "print(s_lower)"
      ],
      "execution_count": 3,
      "outputs": [
        {
          "output_type": "stream",
          "name": "stdout",
          "text": [
            "TODAY IS SATURDAY\n",
            "today is saturday\n"
          ]
        }
      ]
    },
    {
      "cell_type": "code",
      "metadata": {
        "colab": {
          "base_uri": "https://localhost:8080/"
        },
        "id": "XCR3L6-q2XAV",
        "outputId": "95ac88bd-89bb-4c49-ff62-40aefdfca01b"
      },
      "source": [
        "# Python is case sensitive!!!!\n",
        "print(s_upper.find('s'))"
      ],
      "execution_count": 4,
      "outputs": [
        {
          "output_type": "stream",
          "name": "stdout",
          "text": [
            "-1\n"
          ]
        }
      ]
    },
    {
      "cell_type": "code",
      "metadata": {
        "colab": {
          "base_uri": "https://localhost:8080/"
        },
        "id": "ow_Xz2Fg2ggg",
        "outputId": "b03e953b-8583-44ef-9c4f-f85278f7cd08"
      },
      "source": [
        "print(s_upper.find('S'))"
      ],
      "execution_count": 5,
      "outputs": [
        {
          "output_type": "stream",
          "name": "stdout",
          "text": [
            "7\n"
          ]
        }
      ]
    },
    {
      "cell_type": "code",
      "metadata": {
        "colab": {
          "base_uri": "https://localhost:8080/"
        },
        "id": "E8Vng5Bg2lbO",
        "outputId": "323f3af5-95ec-42cf-f8d3-4b2f611c21c3"
      },
      "source": [
        "# Strip examples\n",
        "sl = '   This sentence has a leading space'\n",
        "st = 'This sentence has a trailing space    '\n",
        "sb = '    This sentence has both spaces    '\n",
        "ab = 'AAA'\n",
        "print(sl)\n",
        "print(sl.lstrip(), ab)\n",
        "print(st, ab)\n",
        "print(st.rstrip(), ab)"
      ],
      "execution_count": 11,
      "outputs": [
        {
          "output_type": "stream",
          "name": "stdout",
          "text": [
            "   This sentence has a leading space\n",
            "This sentence has a leading space AAA\n",
            "This sentence has a trailing space     AAA\n",
            "This sentence has a trailing space AAA\n"
          ]
        }
      ]
    },
    {
      "cell_type": "code",
      "metadata": {
        "colab": {
          "base_uri": "https://localhost:8080/"
        },
        "id": "yObSCDbC2-uH",
        "outputId": "2c4bdb15-1a46-465b-ad36-3ae10cdd28e5"
      },
      "source": [
        "print(sb, ab)\n",
        "print(sb.rstrip(), ab)"
      ],
      "execution_count": 13,
      "outputs": [
        {
          "output_type": "stream",
          "name": "stdout",
          "text": [
            "    This sentence has both spaces     AAA\n",
            "    This sentence has both spaces AAA\n"
          ]
        }
      ]
    },
    {
      "cell_type": "code",
      "metadata": {
        "colab": {
          "base_uri": "https://localhost:8080/"
        },
        "id": "zmdLVTi93GLs",
        "outputId": "1da7fcd2-ed5f-468b-f0ea-d52db818e4f6"
      },
      "source": [
        "print(sb.strip(), ab)"
      ],
      "execution_count": 14,
      "outputs": [
        {
          "output_type": "stream",
          "name": "stdout",
          "text": [
            "This sentence has both spaces AAA\n"
          ]
        }
      ]
    },
    {
      "cell_type": "code",
      "metadata": {
        "id": "BOV5KxTS3ITK"
      },
      "source": [
        ""
      ],
      "execution_count": null,
      "outputs": []
    }
  ]
}