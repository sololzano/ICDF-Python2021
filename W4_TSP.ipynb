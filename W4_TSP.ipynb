{
  "nbformat": 4,
  "nbformat_minor": 0,
  "metadata": {
    "colab": {
      "name": "W4_TSP.ipynb",
      "provenance": [],
      "collapsed_sections": [],
      "authorship_tag": "ABX9TyOAb/Em7pD5NbXcUS1LzQd3",
      "include_colab_link": true
    },
    "kernelspec": {
      "name": "python3",
      "display_name": "Python 3"
    },
    "language_info": {
      "name": "python"
    }
  },
  "cells": [
    {
      "cell_type": "markdown",
      "metadata": {
        "id": "view-in-github",
        "colab_type": "text"
      },
      "source": [
        "<a href=\"https://colab.research.google.com/github/sololzano/ICDF-Python2021/blob/main/W4_TSP.ipynb\" target=\"_parent\"><img src=\"https://colab.research.google.com/assets/colab-badge.svg\" alt=\"Open In Colab\"/></a>"
      ]
    },
    {
      "cell_type": "markdown",
      "metadata": {
        "id": "cKENNbWs8c29"
      },
      "source": [
        "# Loops and NumPy - Traveling Salesman Problem"
      ]
    },
    {
      "cell_type": "code",
      "metadata": {
        "id": "1e-jK5xp9Xlp"
      },
      "source": [
        "# Import libraries\n",
        "from matplotlib import pyplot as plt\n",
        "import numpy as np"
      ],
      "execution_count": null,
      "outputs": []
    },
    {
      "cell_type": "markdown",
      "metadata": {
        "id": "SAp9x8Co08hR"
      },
      "source": [
        "## Define Cities and Distance Matrix"
      ]
    },
    {
      "cell_type": "code",
      "metadata": {
        "id": "Ez4f_jlh7Sg3"
      },
      "source": [
        "def get_cities(x_min, x_max, num_cities, seed = 0):\n",
        "  np.random.seed(seed)\n",
        "  cities = np.random.uniform(x_min, x_max, (num_cities, 2))\n",
        "  return cities"
      ],
      "execution_count": null,
      "outputs": []
    },
    {
      "cell_type": "code",
      "source": [
        "def get_distance_matrix(points):\n",
        "  dij = np.linalg.norm(points - points[:, None], axis=-1)\n",
        "  return dij"
      ],
      "metadata": {
        "id": "_g6sjw-RHTHX"
      },
      "execution_count": null,
      "outputs": []
    },
    {
      "cell_type": "markdown",
      "metadata": {
        "id": "lzR-ZMKY7fbx"
      },
      "source": [
        "## Calculate Traveling Cost"
      ]
    },
    {
      "cell_type": "code",
      "metadata": {
        "id": "WeTrGB-A7qrj"
      },
      "source": [
        "def total_cost(permutation, distance_matrix):\n",
        "  cost = 0.\n",
        "  for i in range(len(permutation) - 1):\n",
        "    cost += dij[permutation[i]][permutation[i+1]]\n",
        "  cost += dij[permutation[-1]][permutation[0]]\n",
        "  return cost"
      ],
      "execution_count": null,
      "outputs": []
    },
    {
      "cell_type": "markdown",
      "metadata": {
        "id": "qUezWbyt74qZ"
      },
      "source": [
        "## Plot Cities and Connections"
      ]
    },
    {
      "cell_type": "code",
      "metadata": {
        "id": "uJSpfnDH8IvT"
      },
      "source": [
        "def plot_cities(points, permutation):\n",
        "  p = points[permutation]\n",
        "  fig, ax = plt.subplots(figsize=(12, 8))\n",
        "  ax.scatter(p[1:, 0], p[1:, 1], s=150, c='steelblue')\n",
        "  ax.scatter(p[0, 0], p[0, 1], s=200, c='purple', marker='s')\n",
        "  ax.plot(p[:, 0], p[:, 1], c='crimson')\n",
        "  ax.plot(p[[-1, 0], 0], p[[-1, 0], 1], c='crimson')\n",
        "  ax.grid()\n",
        "\n",
        "  for i, _ in enumerate(points):\n",
        "    ax.annotate(str(i + 1), (points[i, 0] + 10, points[i, 1] - 5), fontsize=16)"
      ],
      "execution_count": null,
      "outputs": []
    },
    {
      "cell_type": "markdown",
      "source": [
        "# Import Data"
      ],
      "metadata": {
        "id": "PnqWQa-VKz50"
      }
    },
    {
      "cell_type": "code",
      "source": [
        "# Get data points (X, Y) for Western Bays Transport System\n",
        "solution = [0, 27, 5, 11, 8, 25, 2, 28, 4, 20, 1, 19, 9, 3, 14, 17, 13, 16, 21, 10, 18, 24, 6, 22, 7, 26, 15, 12, 23]\n",
        "solution_cost = 9074.1\n",
        "f = np.loadtxt('https://raw.githubusercontent.com/sololzano/2021-Python-Optimization-Lab/main/TSP_Data/Bays.tsp')\n",
        "print(f.shape)\n",
        "print(f[0])"
      ],
      "metadata": {
        "id": "xvb3DMXbMPxK"
      },
      "execution_count": null,
      "outputs": []
    },
    {
      "cell_type": "code",
      "source": [
        "# Data points for Burma 14 TSP\n",
        "f2 = np.loadtxt('https://raw.githubusercontent.com/sololzano/ICDF-Python2021/main/burma14.tsp')"
      ],
      "metadata": {
        "id": "D55FhcS0QXds"
      },
      "execution_count": null,
      "outputs": []
    },
    {
      "cell_type": "markdown",
      "metadata": {
        "id": "RDqYrrMl8hub"
      },
      "source": [
        "## Generate Random Solutions"
      ]
    },
    {
      "cell_type": "code",
      "metadata": {
        "id": "Pf7Tg8g39X7B"
      },
      "source": [
        "def get_random_permutation(permutation):\n",
        "  return permutation"
      ],
      "execution_count": null,
      "outputs": []
    },
    {
      "cell_type": "markdown",
      "metadata": {
        "id": "p8nP9wuK9c1C"
      },
      "source": [
        "## Swap Solutions"
      ]
    },
    {
      "cell_type": "code",
      "metadata": {
        "id": "Lz7VGk8a9jsi"
      },
      "source": [
        "def swap_permtation(permutation):\n",
        "  return permutation"
      ],
      "execution_count": null,
      "outputs": []
    },
    {
      "cell_type": "markdown",
      "metadata": {
        "id": "hTmC4vSn9nNs"
      },
      "source": [
        "## Best Solutions"
      ]
    },
    {
      "cell_type": "code",
      "metadata": {
        "id": "kYLW3xSB9sXb"
      },
      "source": [
        "def random_optimizer(cities, distance_matrix):\n",
        "  return 0"
      ],
      "execution_count": null,
      "outputs": []
    }
  ]
}