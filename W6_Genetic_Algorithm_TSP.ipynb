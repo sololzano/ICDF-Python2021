{
  "nbformat": 4,
  "nbformat_minor": 0,
  "metadata": {
    "colab": {
      "name": "W6_Genetic_Algorithm_TSP.ipynb",
      "provenance": [],
      "collapsed_sections": [],
      "authorship_tag": "ABX9TyPAPaV90OOixZMJ5bNLHRGK",
      "include_colab_link": true
    },
    "kernelspec": {
      "name": "python3",
      "display_name": "Python 3"
    },
    "language_info": {
      "name": "python"
    }
  },
  "cells": [
    {
      "cell_type": "markdown",
      "metadata": {
        "id": "view-in-github",
        "colab_type": "text"
      },
      "source": [
        "<a href=\"https://colab.research.google.com/github/sololzano/ICDF-Python2021/blob/main/W6_Genetic_Algorithm_TSP.ipynb\" target=\"_parent\"><img src=\"https://colab.research.google.com/assets/colab-badge.svg\" alt=\"Open In Colab\"/></a>"
      ]
    },
    {
      "cell_type": "code",
      "execution_count": null,
      "metadata": {
        "id": "qEh8P0z0UJSh"
      },
      "outputs": [],
      "source": [
        "# Import libraries\n",
        "from matplotlib import pyplot as plt\n",
        "import numpy as np"
      ]
    },
    {
      "cell_type": "markdown",
      "source": [
        "# Utilities"
      ],
      "metadata": {
        "id": "ikhB0nfPYF_C"
      }
    },
    {
      "cell_type": "code",
      "source": [
        "def get_distance_matrix(points):\n",
        "  dij = np.linalg.norm(points - points[:, None], axis=-1)\n",
        "  return dij"
      ],
      "metadata": {
        "id": "fGG0tbTEYHKB"
      },
      "execution_count": null,
      "outputs": []
    },
    {
      "cell_type": "code",
      "source": [
        "def total_cost(permutation, dij):\n",
        "  cost = 0.\n",
        "  for i in range(len(permutation) - 1):\n",
        "    cost += dij[permutation[i]][permutation[i+1]]\n",
        "  cost += dij[permutation[-1]][permutation[0]]\n",
        "  return cost"
      ],
      "metadata": {
        "id": "mrastqCoYJIB"
      },
      "execution_count": null,
      "outputs": []
    },
    {
      "cell_type": "code",
      "source": [
        "def plot_cities(points, permutation):\n",
        "  p = points[permutation]\n",
        "  fig, ax = plt.subplots(figsize=(12, 8))\n",
        "  ax.scatter(p[1:, 0], p[1:, 1], s=150, c='steelblue')\n",
        "  ax.scatter(p[0, 0], p[0, 1], s=200, c='purple', marker='s')\n",
        "  ax.plot(p[:, 0], p[:, 1], c='crimson')\n",
        "  ax.plot(p[[-1, 0], 0], p[[-1, 0], 1], c='crimson')\n",
        "  ax.grid()\n",
        "\n",
        "  for i, _ in enumerate(points):\n",
        "    ax.annotate(str(i + 1), (points[i, 0] + 10, points[i, 1] - 5), fontsize=16)"
      ],
      "metadata": {
        "id": "D-BBNfUQYKbZ"
      },
      "execution_count": null,
      "outputs": []
    },
    {
      "cell_type": "markdown",
      "source": [
        "# Data"
      ],
      "metadata": {
        "id": "-cg24q-zag6L"
      }
    },
    {
      "cell_type": "code",
      "source": [
        "# Get data points (X, Y) for Western Bays Transport System\n",
        "solution = [0, 27, 5, 11, 8, 25, 2, 28, 4, 20, 1, 19, 9, 3, 14, 17, 13, 16, 21, 10, 18, 24, 6, 22, 7, 26, 15, 12, 23]\n",
        "solution_cost = 9074.1\n",
        "f = np.loadtxt('https://raw.githubusercontent.com/sololzano/2021-Python-Optimization-Lab/main/TSP_Data/Bays.tsp')\n",
        "print(f.shape)\n",
        "print(f[0])"
      ],
      "metadata": {
        "id": "vGXzT6Zwajn6"
      },
      "execution_count": null,
      "outputs": []
    },
    {
      "cell_type": "code",
      "source": [
        "# Reshape cities and get distance matrix\n",
        "cities = f[:, 1:]\n",
        "bays_dij = get_distance_matrix(cities)\n",
        "print(bays_dij.shape)"
      ],
      "metadata": {
        "id": "pzvkMJf-anhO"
      },
      "execution_count": null,
      "outputs": []
    },
    {
      "cell_type": "markdown",
      "source": [
        "# Genetic Algorithm"
      ],
      "metadata": {
        "id": "QRlsKDR_YLnZ"
      }
    },
    {
      "cell_type": "code",
      "source": [
        "# Get initial population\n",
        "def init_population(fitness_function, pop_size, dimensions):\n",
        "\n",
        "  return 0"
      ],
      "metadata": {
        "id": "rQAS-dLuYRU7"
      },
      "execution_count": null,
      "outputs": []
    },
    {
      "cell_type": "code",
      "source": [
        "# Selection mechanism\n",
        "def selection_mechanism(fitness, kind):\n",
        "  if kind == 'random':\n",
        "    return 0\n",
        "  if kind == 'tournament':\n",
        "    return 0"
      ],
      "metadata": {
        "id": "yVp-9JDAYg_W"
      },
      "execution_count": null,
      "outputs": []
    },
    {
      "cell_type": "code",
      "source": [
        "# Crossover\n",
        "def crossover(parents, parents_fitness, pc, kind):\n",
        "  if kind == 'ox1':\n",
        "    return 0\n",
        "  if kind == 'ox2':\n",
        "    return 0"
      ],
      "metadata": {
        "id": "0Vm6VBD4Ynkr"
      },
      "execution_count": null,
      "outputs": []
    },
    {
      "cell_type": "code",
      "source": [
        "# Mutation\n",
        "def mutation(children, children_fitness, pm, kind):\n",
        "  if kind == 'swap':\n",
        "    return 0\n",
        "  if kind == 'two_opt':\n",
        "    return 0"
      ],
      "metadata": {
        "id": "HNM6rRpUYzRC"
      },
      "execution_count": null,
      "outputs": []
    },
    {
      "cell_type": "code",
      "source": [
        "# Maintenance mechanism\n",
        "def maintenance_mechanism(parents, children, parents_fitness, \n",
        "                          children_fitness, kind):\n",
        "  if kind == 'replacement':\n",
        "    return 0\n",
        "  if kind == 'fittest':\n",
        "    return 0\n",
        "  if kind == 'tournament':\n",
        "    return 0"
      ],
      "metadata": {
        "id": "aPiAMe1pZBaB"
      },
      "execution_count": null,
      "outputs": []
    },
    {
      "cell_type": "code",
      "source": [
        "# Genetic Algorithm\n",
        "def genetic_algorithm(fitness_function, pop_size, dimensions, \n",
        "                      max_generations, selection_kind, crossover_kind, \n",
        "                      mutation_kind, maintenance_kind, pc, pm):\n",
        "  # Generation zero\n",
        "  x, fx, gb, fb = init_population(fitness_function, pop_size, dimensions)\n",
        "\n",
        "  gb_array = []\n",
        "  fb_array = []\n",
        "  gb_array.append(gb)\n",
        "  fb_array.append(fb)\n",
        "\n",
        "  # Loop\n",
        "  for i in range(1, max_generations+1):\n",
        "    new_generation = []\n",
        "    new_fitness = []\n",
        "    for j in range(pop_size // 2):\n",
        "      # Select two potential parents\n",
        "      idx_parents = selection_mechanism(fx, selection_kind)\n",
        "      parents = np.copy(x[idx_parents])\n",
        "      parents_fitness = np.copy(f[idx_parents])\n",
        "\n",
        "      # Cross parents to generate offsprings\n",
        "      children, ch_fit = crossover(parents, parents_fitness, pc, crossover_kind)\n",
        "\n",
        "      # Mutate children with probability pc\n",
        "      children, ch_fit = mutation(children, ch_fit, pm, mutation_kind)\n",
        "      new_generation.append(np.array(children))\n",
        "      new_fitness.append(np.array(ch_fit))\n",
        "\n",
        "    # Re-shape new generation and fitness\n",
        "    new_generation = np.reshape(new_generation, x.shape)\n",
        "    new_fitness = np.reshape(new_fitness, fx.shape)\n",
        "\n",
        "    # Maintenance mechanism\n",
        "    x, fx = maintenance_mechanism(x, new_generation, fx, \n",
        "                                  new_fitness, maintenance_kind)\n",
        "    \n",
        "    # Update global best\n",
        "    min_idx = np.argmin(fx)\n",
        "    gb_array.append(np.copy(x[min_idx]))\n",
        "    fb_array.append(np.copy(fx[min_idx]))\n",
        "\n",
        "  return gb_array, fb_array"
      ],
      "metadata": {
        "id": "4QfEOeFEZMVs"
      },
      "execution_count": null,
      "outputs": []
    }
  ]
}