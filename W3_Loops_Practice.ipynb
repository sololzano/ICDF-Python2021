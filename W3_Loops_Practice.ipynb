{
  "nbformat": 4,
  "nbformat_minor": 0,
  "metadata": {
    "colab": {
      "name": "W3_Loops_Practice.ipynb",
      "provenance": [],
      "collapsed_sections": [],
      "authorship_tag": "ABX9TyNVFEGGgEwnAG6tasuFRDJr",
      "include_colab_link": true
    },
    "kernelspec": {
      "name": "python3",
      "display_name": "Python 3"
    },
    "language_info": {
      "name": "python"
    }
  },
  "cells": [
    {
      "cell_type": "markdown",
      "metadata": {
        "id": "view-in-github",
        "colab_type": "text"
      },
      "source": [
        "<a href=\"https://colab.research.google.com/github/sololzano/ICDF-Python2021/blob/main/W3_Loops_Practice.ipynb\" target=\"_parent\"><img src=\"https://colab.research.google.com/assets/colab-badge.svg\" alt=\"Open In Colab\"/></a>"
      ]
    },
    {
      "cell_type": "markdown",
      "metadata": {
        "id": "cKENNbWs8c29"
      },
      "source": [
        "# Loops and NumPy - Traveling Salesman Problem"
      ]
    },
    {
      "cell_type": "code",
      "metadata": {
        "id": "1e-jK5xp9Xlp"
      },
      "source": [
        "# Import libraries\n",
        "from matplotlib import pyplot as plt\n",
        "import numpy as np"
      ],
      "execution_count": 1,
      "outputs": []
    },
    {
      "cell_type": "markdown",
      "metadata": {
        "id": "SAp9x8Co08hR"
      },
      "source": [
        "## Define Cities and Distance Matrix"
      ]
    },
    {
      "cell_type": "code",
      "metadata": {
        "id": "Ez4f_jlh7Sg3"
      },
      "source": [
        "def get_cities(x_min, x_max, num_cities, seed = 0):\n",
        "  np.random.seed(seed)\n",
        "  return 0"
      ],
      "execution_count": 2,
      "outputs": []
    },
    {
      "cell_type": "markdown",
      "metadata": {
        "id": "lzR-ZMKY7fbx"
      },
      "source": [
        "## Calculate Traveling Cost"
      ]
    },
    {
      "cell_type": "code",
      "metadata": {
        "id": "WeTrGB-A7qrj"
      },
      "source": [
        "def calculate_cost(permutation, distance_matrix):\n",
        "  return 0"
      ],
      "execution_count": 3,
      "outputs": []
    },
    {
      "cell_type": "markdown",
      "metadata": {
        "id": "qUezWbyt74qZ"
      },
      "source": [
        "## Plot Cities and Connections"
      ]
    },
    {
      "cell_type": "code",
      "metadata": {
        "id": "uJSpfnDH8IvT"
      },
      "source": [
        "def plot_cities(points, permutation):\n",
        "  return 0"
      ],
      "execution_count": 4,
      "outputs": []
    },
    {
      "cell_type": "markdown",
      "metadata": {
        "id": "RDqYrrMl8hub"
      },
      "source": [
        "## Generate Random Solutions"
      ]
    },
    {
      "cell_type": "code",
      "metadata": {
        "id": "Pf7Tg8g39X7B"
      },
      "source": [
        "def get_random_permutation(permutation):\n",
        "  return permutation"
      ],
      "execution_count": 5,
      "outputs": []
    },
    {
      "cell_type": "markdown",
      "metadata": {
        "id": "p8nP9wuK9c1C"
      },
      "source": [
        "## Swap Solutions"
      ]
    },
    {
      "cell_type": "code",
      "metadata": {
        "id": "Lz7VGk8a9jsi"
      },
      "source": [
        "def swap_permtation(permutation):\n",
        "  return permutation"
      ],
      "execution_count": 6,
      "outputs": []
    },
    {
      "cell_type": "markdown",
      "metadata": {
        "id": "hTmC4vSn9nNs"
      },
      "source": [
        "## Best Solutions"
      ]
    },
    {
      "cell_type": "code",
      "metadata": {
        "id": "kYLW3xSB9sXb"
      },
      "source": [
        "def random_optimizer(cities, distance_matrix):\n",
        "  return 0"
      ],
      "execution_count": 7,
      "outputs": []
    },
    {
      "cell_type": "code",
      "metadata": {
        "id": "ShYOe8GVWnYe"
      },
      "source": [
        "def plot_cities(points):\n",
        "  fig, ax = plt.subplots(figsize=(12, 8))\n",
        "  ax.scatter(points[:, 0], points[:, 1], s=150, c='steelblue')\n",
        "  ax.scatter(points[0, 0], points[0, 1], s=200, c='purple', marker='s')\n",
        "  ax.plot(points[:, 0], points[:, 1], c='crimson')\n",
        "  ax.plot(points[[-1, 0], 0], points[[-1, 0], 1], c='crimson')\n",
        "  ax.set_xlim(-350, 350)\n",
        "  ax.set_ylim(-350, 350)\n",
        "  ax.grid()\n",
        "\n",
        "  for i, _ in enumerate(points):\n",
        "    ax.annotate(str(i + 1), (points[i, 0] + 10, points[i, 1] - 5), fontsize=16)"
      ],
      "execution_count": null,
      "outputs": []
    },
    {
      "cell_type": "code",
      "metadata": {
        "colab": {
          "base_uri": "https://localhost:8080/",
          "height": 483
        },
        "id": "oEMujHOJYU3D",
        "outputId": "2f9670a1-00e9-4dfb-e388-5b58c9c0e1c8"
      },
      "source": [
        "plot_cities(x[np.random.permutation(len(x))])"
      ],
      "execution_count": null,
      "outputs": [
        {
          "output_type": "display_data",
          "data": {
            "image/png": "[encoded data removed]",
            "text/plain": [
              "<Figure size 864x576 with 1 Axes>"
            ]
          },
          "metadata": {
            "needs_background": "light"
          }
        }
      ]
    },
    {
      "cell_type": "code",
      "metadata": {
        "id": "vXdFtoHF2cWQ"
      },
      "source": [
        "np.random.seed(0)\n",
        "x = np.random.uniform(-300, 300, (10, 2))"
      ],
      "execution_count": null,
      "outputs": []
    },
    {
      "cell_type": "code",
      "metadata": {
        "id": "Ai3JUm2xmfAV"
      },
      "source": [
        "dij = np.linalg.norm(x - x[:, None], axis=-1)"
      ],
      "execution_count": null,
      "outputs": []
    },
    {
      "cell_type": "code",
      "metadata": {
        "id": "zS_IZtUPZ2JE"
      },
      "source": [
        "def total_cost(permutation, dij):\n",
        "  cost = 0.\n",
        "  for i in range(len(permutation) - 1):\n",
        "    cost += dij[permutation[i]][permutation[i+1]]\n",
        "  cost += dij[permutation[-1]][permutation[0]]\n",
        "  return cost"
      ],
      "execution_count": null,
      "outputs": []
    },
    {
      "cell_type": "code",
      "metadata": {
        "id": "qkHGnSC5w6so"
      },
      "source": [
        ""
      ],
      "execution_count": null,
      "outputs": []
    }
  ]
}