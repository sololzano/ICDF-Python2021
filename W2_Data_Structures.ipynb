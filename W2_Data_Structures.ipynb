{
  "nbformat": 4,
  "nbformat_minor": 0,
  "metadata": {
    "colab": {
      "name": "W2_Data Structures.ipynb",
      "provenance": [],
      "collapsed_sections": [],
      "authorship_tag": "ABX9TyNf0GHKyMwOWKTMtuCxP8ED",
      "include_colab_link": true
    },
    "kernelspec": {
      "name": "python3",
      "display_name": "Python 3"
    },
    "language_info": {
      "name": "python"
    }
  },
  "cells": [
    {
      "cell_type": "markdown",
      "metadata": {
        "id": "view-in-github",
        "colab_type": "text"
      },
      "source": [
        "<a href=\"https://colab.research.google.com/github/sololzano/ICDF-Python2021/blob/main/W2_Data_Structures.ipynb\" target=\"_parent\"><img src=\"https://colab.research.google.com/assets/colab-badge.svg\" alt=\"Open In Colab\"/></a>"
      ]
    },
    {
      "cell_type": "markdown",
      "metadata": {
        "id": "2uXI10ansOFN"
      },
      "source": [
        "# Iterable Objects"
      ]
    },
    {
      "cell_type": "markdown",
      "metadata": {
        "id": "go_-sOB5sYxD"
      },
      "source": [
        "## Lists"
      ]
    },
    {
      "cell_type": "markdown",
      "metadata": {
        "id": "n5Mjj2v_3U9P"
      },
      "source": [
        "<ul>\n",
        " <li>Collection of items of different types.\n",
        " <li>Items can be changed, removed, etc...\n",
        " <li>Allows duplicates.\n",
        " <li>Enclosed by square brackes, items separated by comma (<code>[1, 'a', 3]</code>).\n",
        "</ul>"
      ]
    },
    {
      "cell_type": "code",
      "metadata": {
        "colab": {
          "base_uri": "https://localhost:8080/"
        },
        "id": "jRlGEmTy3fXJ",
        "outputId": "58174f1a-2abf-4eae-d13d-d2b56f448885"
      },
      "source": [
        "# List with different items and types\n",
        "x = [1, 3.0, 'ab', False]\n",
        "print(x)"
      ],
      "execution_count": 1,
      "outputs": [
        {
          "output_type": "stream",
          "name": "stdout",
          "text": [
            "[1, 3.0, 'ab', False]\n"
          ]
        }
      ]
    },
    {
      "cell_type": "code",
      "metadata": {
        "colab": {
          "base_uri": "https://localhost:8080/"
        },
        "id": "gvjMWVXR3_qn",
        "outputId": "e849a9f9-ea89-4246-c943-66547fe986e9"
      },
      "source": [
        "# Change item of list by indexing\n",
        "x[1] = 3.5\n",
        "print(x)"
      ],
      "execution_count": 2,
      "outputs": [
        {
          "output_type": "stream",
          "name": "stdout",
          "text": [
            "[1, 3.5, 'ab', False]\n"
          ]
        }
      ]
    },
    {
      "cell_type": "markdown",
      "metadata": {
        "id": "Cg8W8txX4Hq9"
      },
      "source": [
        "## Tuples"
      ]
    },
    {
      "cell_type": "markdown",
      "metadata": {
        "id": "HEGHlQ5A4LdV"
      },
      "source": [
        "<ul>\n",
        " <li>Collection of items of different types.\n",
        " <li>Items cannot be changed or deleted.\n",
        " <li>Allows duplicates.\n",
        " <li>Enclosed by parentheses, items separated by comma (<code>(1, 'a', 3)</code>).\n",
        "</ul>"
      ]
    },
    {
      "cell_type": "code",
      "metadata": {
        "colab": {
          "base_uri": "https://localhost:8080/"
        },
        "id": "tIs-dKWG4ZY5",
        "outputId": "61db3686-48c2-479a-a64a-5eb92a47c8a7"
      },
      "source": [
        "# Tuple with different items and types\n",
        "y = (1, 3.0, 'ab', True)\n",
        "print(y)"
      ],
      "execution_count": 3,
      "outputs": [
        {
          "output_type": "stream",
          "name": "stdout",
          "text": [
            "(1, 3.0, 'ab', True)\n"
          ]
        }
      ]
    },
    {
      "cell_type": "code",
      "metadata": {
        "colab": {
          "base_uri": "https://localhost:8080/",
          "height": 200
        },
        "id": "nO1huuZ44dls",
        "outputId": "b18fc22e-a9fe-4fb8-9192-b8cf87d3bdac"
      },
      "source": [
        "# Tuple items cannot be changed!\n",
        "y[0] = 1.3\n",
        "print(y)"
      ],
      "execution_count": 4,
      "outputs": [
        {
          "output_type": "error",
          "ename": "TypeError",
          "evalue": "ignored",
          "traceback": [
            "\u001b[0;31m---------------------------------------------------------------------------\u001b[0m",
            "\u001b[0;31mTypeError\u001b[0m                                 Traceback (most recent call last)",
            "\u001b[0;32m<ipython-input-4-3a4fce632c5b>\u001b[0m in \u001b[0;36m<module>\u001b[0;34m()\u001b[0m\n\u001b[1;32m      1\u001b[0m \u001b[0;31m# Tuple items cannot be changed!\u001b[0m\u001b[0;34m\u001b[0m\u001b[0;34m\u001b[0m\u001b[0;34m\u001b[0m\u001b[0m\n\u001b[0;32m----> 2\u001b[0;31m \u001b[0my\u001b[0m\u001b[0;34m[\u001b[0m\u001b[0;36m0\u001b[0m\u001b[0;34m]\u001b[0m \u001b[0;34m=\u001b[0m \u001b[0;36m1.3\u001b[0m\u001b[0;34m\u001b[0m\u001b[0;34m\u001b[0m\u001b[0m\n\u001b[0m\u001b[1;32m      3\u001b[0m \u001b[0mprint\u001b[0m\u001b[0;34m(\u001b[0m\u001b[0my\u001b[0m\u001b[0;34m)\u001b[0m\u001b[0;34m\u001b[0m\u001b[0;34m\u001b[0m\u001b[0m\n",
            "\u001b[0;31mTypeError\u001b[0m: 'tuple' object does not support item assignment"
          ]
        }
      ]
    },
    {
      "cell_type": "markdown",
      "metadata": {
        "id": "MzArNLXR4jhs"
      },
      "source": [
        "## Dictionaries"
      ]
    },
    {
      "cell_type": "markdown",
      "metadata": {
        "id": "1HDbNVOs4udf"
      },
      "source": [
        "<ul>\n",
        " <li>Collection of items as <code>key:value</code>.\n",
        " <li>Items can be changed, removed, etc...\n",
        " <li>No duplicates for <code>key</code>.\n",
        " <li>Enclosed by braces, pairs separated by comma (<code>{'key1':val1, 'key2':val2, 'key3':val3}</code>).\n",
        " <li>Keys are <code>string</code>.\n",
        "</ul>"
      ]
    },
    {
      "cell_type": "code",
      "metadata": {
        "colab": {
          "base_uri": "https://localhost:8080/"
        },
        "id": "9TDL2Fm845QI",
        "outputId": "a0ce2863-d135-4e40-cd9a-9d6c36ec9bc4"
      },
      "source": [
        "# Create a dictionary with different items and types\n",
        "d = {'key1':1, 'key2':3.2, 'key3':'ab', 'key4':False}\n",
        "print(d)"
      ],
      "execution_count": 5,
      "outputs": [
        {
          "output_type": "stream",
          "name": "stdout",
          "text": [
            "{'key1': 1, 'key2': 3.2, 'key3': 'ab', 'key4': False}\n"
          ]
        }
      ]
    },
    {
      "cell_type": "code",
      "metadata": {
        "colab": {
          "base_uri": "https://localhost:8080/"
        },
        "id": "Ae9G-chH5iwn",
        "outputId": "026bb51c-cfd6-44a9-994b-dcb300b54978"
      },
      "source": [
        "# Access items of dictionary by key\n",
        "print(d['key3'])"
      ],
      "execution_count": 6,
      "outputs": [
        {
          "output_type": "stream",
          "name": "stdout",
          "text": [
            "ab\n"
          ]
        }
      ]
    },
    {
      "cell_type": "code",
      "metadata": {
        "colab": {
          "base_uri": "https://localhost:8080/"
        },
        "id": "G2-t59ku5mh8",
        "outputId": "ebaac16c-1459-4169-f406-d75322fd0d49"
      },
      "source": [
        "# Change item value of dictionary\n",
        "d['key2'] = 5.5\n",
        "print(d)"
      ],
      "execution_count": 7,
      "outputs": [
        {
          "output_type": "stream",
          "name": "stdout",
          "text": [
            "{'key1': 1, 'key2': 5.5, 'key3': 'ab', 'key4': False}\n"
          ]
        }
      ]
    },
    {
      "cell_type": "markdown",
      "metadata": {
        "id": "WK72tXer5vPv"
      },
      "source": [
        "## Built-in functions for Iterables\n"
      ]
    },
    {
      "cell_type": "markdown",
      "metadata": {
        "id": "t0fALhhL53A0"
      },
      "source": [
        "<ul>\n",
        "  <li><code>sum()</code>: Sums elements of iterable. All elements must be numbers!\n",
        "</ul>"
      ]
    },
    {
      "cell_type": "code",
      "metadata": {
        "colab": {
          "base_uri": "https://localhost:8080/"
        },
        "id": "h6cgJ_5r6Fi-",
        "outputId": "d9d66449-74bd-4964-d076-cf3484db334e"
      },
      "source": [
        "l1 = [10, 20, 1, 3.1]\n",
        "print(sum(l1))"
      ],
      "execution_count": 8,
      "outputs": [
        {
          "output_type": "stream",
          "name": "stdout",
          "text": [
            "34.1\n"
          ]
        }
      ]
    },
    {
      "cell_type": "markdown",
      "metadata": {
        "id": "B9LYezH96RbA"
      },
      "source": [
        "<ul>\n",
        "  <li><code>max()</code>: Returns the maximum value item (works with strings too). \n",
        "  <li><code>min()</code>: Returns the minimum value item (works with strings too).\n",
        "</ul>"
      ]
    },
    {
      "cell_type": "code",
      "metadata": {
        "colab": {
          "base_uri": "https://localhost:8080/"
        },
        "id": "8Pwo1LiW-nfX",
        "outputId": "9aa85392-8d57-417e-e918-c7fcf78bef78"
      },
      "source": [
        "l2 = [11, 10, 3, 4, 6, -2]\n",
        "print('Minimum', min(l2), '/ Maximum', max(l2))"
      ],
      "execution_count": 9,
      "outputs": [
        {
          "output_type": "stream",
          "name": "stdout",
          "text": [
            "Minimum -2 / Maximum 11\n"
          ]
        }
      ]
    },
    {
      "cell_type": "markdown",
      "metadata": {
        "id": "Mf_Dq2P7-yNn"
      },
      "source": [
        "<ul>\n",
        "  <li><code>sorted()</code>: Returns the sorted iterable (can be ascending or descending order with the <code>reverse</code> optional argument).\n",
        "</ul>"
      ]
    },
    {
      "cell_type": "code",
      "metadata": {
        "colab": {
          "base_uri": "https://localhost:8080/"
        },
        "id": "kKO0syAd_MIf",
        "outputId": "d8d2bd07-651d-4bf6-fa58-2211200b7dec"
      },
      "source": [
        "# Ascending order\n",
        "print(l2)\n",
        "print(sorted(l2))"
      ],
      "execution_count": 10,
      "outputs": [
        {
          "output_type": "stream",
          "name": "stdout",
          "text": [
            "[11, 10, 3, 4, 6, -2]\n",
            "[-2, 3, 4, 6, 10, 11]\n"
          ]
        }
      ]
    },
    {
      "cell_type": "code",
      "metadata": {
        "colab": {
          "base_uri": "https://localhost:8080/"
        },
        "id": "AnaO2iv3_Rc5",
        "outputId": "55ee2c41-b090-4c2c-cdc1-97fb9536b9fb"
      },
      "source": [
        "# Descending order\n",
        "print(l2)\n",
        "print(sorted(l2, reverse=True))"
      ],
      "execution_count": 11,
      "outputs": [
        {
          "output_type": "stream",
          "name": "stdout",
          "text": [
            "[11, 10, 3, 4, 6, -2]\n",
            "[11, 10, 6, 4, 3, -2]\n"
          ]
        }
      ]
    },
    {
      "cell_type": "markdown",
      "metadata": {
        "id": "3oQuT3ND_Uy5"
      },
      "source": [
        "# NumPy - Numerial Python"
      ]
    },
    {
      "cell_type": "markdown",
      "metadata": {
        "id": "5I6OLKe2_hvJ"
      },
      "source": [
        "##N-dimensional Arrays"
      ]
    },
    {
      "cell_type": "markdown",
      "metadata": {
        "id": "TbKhxt5TAbRc"
      },
      "source": [
        "<ul>\n",
        "  <li>Collection of items of the same type (attribute <code>dtype</code>).\n",
        "  <li>Usually with fixed size (<code>shape</code>).\n",
        "  <li>Broadcasting rules for linear algebra.\n",
        "</ul>"
      ]
    },
    {
      "cell_type": "code",
      "metadata": {
        "id": "yrZl3KTOA_v1"
      },
      "source": [
        "# Import NumPy library\n",
        "import numpy as np"
      ],
      "execution_count": 12,
      "outputs": []
    },
    {
      "cell_type": "code",
      "metadata": {
        "colab": {
          "base_uri": "https://localhost:8080/"
        },
        "id": "Rn5xgj10A1hc",
        "outputId": "4aaf6d4a-4504-4d37-abed-b2b5fde11efa"
      },
      "source": [
        "# Create an array from a list\n",
        "l3 = [1, 2, 3, 6, -3]\n",
        "n1 = np.array(l3)\n",
        "print(n1)\n",
        "print(n1.shape)\n",
        "print(n1.dtype)"
      ],
      "execution_count": 13,
      "outputs": [
        {
          "output_type": "stream",
          "name": "stdout",
          "text": [
            "[ 1  2  3  6 -3]\n",
            "(5,)\n",
            "int64\n"
          ]
        }
      ]
    },
    {
      "cell_type": "code",
      "metadata": {
        "colab": {
          "base_uri": "https://localhost:8080/"
        },
        "id": "v0B1roV7A-OI",
        "outputId": "e67ca6ff-4124-4365-b439-ec0130817aeb"
      },
      "source": [
        "# 2-D array\n",
        "n2 = np.array([[1, 2, 3], [4, 5, 6]])\n",
        "print(n2)\n",
        "print()\n",
        "print(n2.shape)"
      ],
      "execution_count": 16,
      "outputs": [
        {
          "output_type": "stream",
          "name": "stdout",
          "text": [
            "[[1 2 3]\n",
            " [4 5 6]]\n",
            "\n",
            "(2, 3)\n"
          ]
        }
      ]
    },
    {
      "cell_type": "code",
      "metadata": {
        "id": "5V64tg64BRVn",
        "colab": {
          "base_uri": "https://localhost:8080/"
        },
        "outputId": "5c21ceb4-1e14-40a6-f42f-f869853c0e18"
      },
      "source": [
        "# Type conversion\n",
        "print(n2.astype(float))"
      ],
      "execution_count": 17,
      "outputs": [
        {
          "output_type": "stream",
          "name": "stdout",
          "text": [
            "[[1. 2. 3.]\n",
            " [4. 5. 6.]]\n"
          ]
        }
      ]
    },
    {
      "cell_type": "code",
      "metadata": {
        "colab": {
          "base_uri": "https://localhost:8080/"
        },
        "id": "3RI_m8oMTu2d",
        "outputId": "da554b0d-d42c-4c72-9550-6d86dcbe7a8e"
      },
      "source": [
        "# From float to int\n",
        "n3 = np.array([[1, 4], [2, 5], [3, 6]], dtype=float)\n",
        "print(n3)\n",
        "print()\n",
        "print(n3.shape)"
      ],
      "execution_count": 19,
      "outputs": [
        {
          "output_type": "stream",
          "name": "stdout",
          "text": [
            "[[1. 4.]\n",
            " [2. 5.]\n",
            " [3. 6.]]\n",
            "\n",
            "(3, 2)\n"
          ]
        }
      ]
    },
    {
      "cell_type": "code",
      "metadata": {
        "colab": {
          "base_uri": "https://localhost:8080/"
        },
        "id": "yL8VfbrJT4eq",
        "outputId": "44668306-dddd-4e4b-f20f-368939ea5736"
      },
      "source": [
        "# Generate random arrays\n",
        "n4 = np.random.uniform(-1, 1, (2, 5))\n",
        "print(n4)"
      ],
      "execution_count": 20,
      "outputs": [
        {
          "output_type": "stream",
          "name": "stdout",
          "text": [
            "[[-0.57074184  0.58626744 -0.39809291 -0.65823717 -0.31402579]\n",
            " [ 0.26720055 -0.00956142 -0.20215765 -0.69062513 -0.99602344]]\n"
          ]
        }
      ]
    },
    {
      "cell_type": "code",
      "metadata": {
        "colab": {
          "base_uri": "https://localhost:8080/"
        },
        "id": "EIXqsoV5T9yr",
        "outputId": "79f5ebd9-5983-41fd-df73-9188830d4167"
      },
      "source": [
        "# Reshape array\n",
        "n5 = np.random.randint(0, 10, (3, 4))\n",
        "print(n5)\n",
        "n6 = np.reshape(n5, (6, 2))\n",
        "print(n6)"
      ],
      "execution_count": 21,
      "outputs": [
        {
          "output_type": "stream",
          "name": "stdout",
          "text": [
            "[[3 5 2 5]\n",
            " [2 3 0 2]\n",
            " [1 9 5 5]]\n",
            "[[3 5]\n",
            " [2 5]\n",
            " [2 3]\n",
            " [0 2]\n",
            " [1 9]\n",
            " [5 5]]\n"
          ]
        }
      ]
    },
    {
      "cell_type": "markdown",
      "metadata": {
        "id": "I_cxI13mUumI"
      },
      "source": [
        "# Conditional Blocks"
      ]
    },
    {
      "cell_type": "markdown",
      "metadata": {
        "id": "mlYm13Ukvf1P"
      },
      "source": [
        "<ul>\n",
        "  <li>Equality (<code>a == b</code>).\n",
        "  <li>Inequality (<code>a != b</code>).\n",
        "  <li>Less or equal than (<code>a <= b</code>).\n",
        "  <li>Greater or equal than (<code>a >= b</code>).\n",
        "</ul>\n",
        "<i>The blocks are separated by indentation levels!!!</i>"
      ]
    },
    {
      "cell_type": "code",
      "metadata": {
        "colab": {
          "base_uri": "https://localhost:8080/"
        },
        "id": "_7gvp1stv8CU",
        "outputId": "636fca57-edc3-484a-a887-66201f7d0e7d"
      },
      "source": [
        "s = 'ABC'\n",
        "if s == 'ABC':\n",
        "  print('Variable \"s\" equals to \"ABC\"')"
      ],
      "execution_count": 27,
      "outputs": [
        {
          "output_type": "stream",
          "name": "stdout",
          "text": [
            "Variable \"s\" equals to \"ABC\"\n"
          ]
        }
      ]
    },
    {
      "cell_type": "code",
      "metadata": {
        "colab": {
          "base_uri": "https://localhost:8080/"
        },
        "id": "mekJtOrGwMCB",
        "outputId": "83f537ff-0c0b-478e-de58-3d3b0a8dc1c9"
      },
      "source": [
        "if s == 'abc':\n",
        "  print('Variable \"s\" equals to \"abc\"')\n",
        "else:\n",
        "  print('Variable \"s\" does not equals to \"abc\"')"
      ],
      "execution_count": 28,
      "outputs": [
        {
          "output_type": "stream",
          "name": "stdout",
          "text": [
            "Variable \"s\" does not equals to \"abc\"\n"
          ]
        }
      ]
    },
    {
      "cell_type": "code",
      "metadata": {
        "colab": {
          "base_uri": "https://localhost:8080/"
        },
        "id": "S0ZFajt7wpOB",
        "outputId": "8ff106f6-5660-4b16-b652-3ed1b3ebcd58"
      },
      "source": [
        "# Conditionals using lists\n",
        "l2 = ['Apple', 'Banana', 'Pear', 'Orange']\n",
        "if 'apple' in l2:\n",
        "  print('\"apple\" in list...')\n",
        "elif 'APPLE' in l2:\n",
        "  print('\"APPLE\" in list...')\n",
        "elif 'Apple' in l2:\n",
        "  print('\"Apple\" in list...')"
      ],
      "execution_count": 29,
      "outputs": [
        {
          "output_type": "stream",
          "name": "stdout",
          "text": [
            "\"Apple\" in list...\n"
          ]
        }
      ]
    },
    {
      "cell_type": "code",
      "metadata": {
        "colab": {
          "base_uri": "https://localhost:8080/"
        },
        "id": "mwCJhRpDxeZb",
        "outputId": "2262b05d-d428-493a-994c-75492e7a7254"
      },
      "source": [
        "# Comparing 2 lists\n",
        "l3 = ['Apple', 'Pear', 'Orange', 'Banana']\n",
        "if (l3 == l2):\n",
        "  print('Lists are equal')\n",
        "else:\n",
        "  print('Lists are not equal')"
      ],
      "execution_count": 34,
      "outputs": [
        {
          "output_type": "stream",
          "name": "stdout",
          "text": [
            "Lists are not equal\n"
          ]
        }
      ]
    },
    {
      "cell_type": "markdown",
      "metadata": {
        "id": "cOGLyDpixjN6"
      },
      "source": [
        "#Loops"
      ]
    },
    {
      "cell_type": "markdown",
      "metadata": {
        "id": "drcf1EUj0xM6"
      },
      "source": [
        "## While Loop"
      ]
    },
    {
      "cell_type": "markdown",
      "metadata": {
        "id": "VirEgG6y12J5"
      },
      "source": [
        "As long as a condition is met, the block is executed repeatedly."
      ]
    },
    {
      "cell_type": "code",
      "metadata": {
        "colab": {
          "base_uri": "https://localhost:8080/"
        },
        "id": "UNKtDC9I2BKz",
        "outputId": "b4576821-0357-40b6-b2e8-262ffd740282"
      },
      "source": [
        "# Set a counter and finish the loop until 10\n",
        "c = 0\n",
        "while (c < 10):\n",
        "  print('Counter value', c)\n",
        "  c += 1"
      ],
      "execution_count": 35,
      "outputs": [
        {
          "output_type": "stream",
          "name": "stdout",
          "text": [
            "Counter value 0\n",
            "Counter value 1\n",
            "Counter value 2\n",
            "Counter value 3\n",
            "Counter value 4\n",
            "Counter value 5\n",
            "Counter value 6\n",
            "Counter value 7\n",
            "Counter value 8\n",
            "Counter value 9\n"
          ]
        }
      ]
    },
    {
      "cell_type": "code",
      "metadata": {
        "id": "LNw--u6f2Nwv"
      },
      "source": [
        "# If the condition is not met, the loop won't be executed\n",
        "c = 10\n",
        "while (c < 10):\n",
        "  print('Counter value', c)\n",
        "  c += 1"
      ],
      "execution_count": 36,
      "outputs": []
    },
    {
      "cell_type": "markdown",
      "metadata": {
        "id": "BV9UmgPN2xV1"
      },
      "source": [
        "## For Loop"
      ]
    },
    {
      "cell_type": "markdown",
      "metadata": {
        "id": "Ujobzlou28t6"
      },
      "source": [
        "Iterates through a sequence (iterable), item by item."
      ]
    },
    {
      "cell_type": "code",
      "metadata": {
        "colab": {
          "base_uri": "https://localhost:8080/"
        },
        "id": "XnEaWKUU3IoW",
        "outputId": "8c848c2c-0c29-4ab9-cfb3-ca1eab71f56a"
      },
      "source": [
        "# Iterate trhough a list\n",
        "l4 = ['Apple', 5, 'a', 3.4, False]\n",
        "for item in l4:\n",
        "  print(item)"
      ],
      "execution_count": 39,
      "outputs": [
        {
          "output_type": "stream",
          "name": "stdout",
          "text": [
            "Apple\n",
            "5\n",
            "a\n",
            "3.4\n",
            "False\n"
          ]
        }
      ]
    },
    {
      "cell_type": "code",
      "metadata": {
        "colab": {
          "base_uri": "https://localhost:8080/"
        },
        "id": "EGub5quu3Sd-",
        "outputId": "a8e3b578-ff26-47e6-80da-b6b15a5d3898"
      },
      "source": [
        "# Enumeration is used to keep a counter for the items\n",
        "for i, item in enumerate(l4):\n",
        "  print('Number', i, '/ Item', item)"
      ],
      "execution_count": 40,
      "outputs": [
        {
          "output_type": "stream",
          "name": "stdout",
          "text": [
            "Number 0 / Item Apple\n",
            "Number 1 / Item 5\n",
            "Number 2 / Item a\n",
            "Number 3 / Item 3.4\n",
            "Number 4 / Item False\n"
          ]
        }
      ]
    },
    {
      "cell_type": "code",
      "metadata": {
        "colab": {
          "base_uri": "https://localhost:8080/"
        },
        "id": "LdgL8w8m3i6Q",
        "outputId": "78d8ba7d-b657-4431-a84a-cd2781faff6e"
      },
      "source": [
        "# Zip for parallel access to iterables\n",
        "l5 = ['Banana', 4, 'b', 2.1, True]\n",
        "for item1, item2 in zip(l4, l5):\n",
        "  print('Item 1', item1, '/ Item 2', item2)"
      ],
      "execution_count": 41,
      "outputs": [
        {
          "output_type": "stream",
          "name": "stdout",
          "text": [
            "Item 1 Apple / Item 2 Banana\n",
            "Item 1 5 / Item 2 4\n",
            "Item 1 a / Item 2 b\n",
            "Item 1 3.4 / Item 2 2.1\n",
            "Item 1 False / Item 2 True\n"
          ]
        }
      ]
    },
    {
      "cell_type": "code",
      "metadata": {
        "colab": {
          "base_uri": "https://localhost:8080/"
        },
        "id": "hkig-vf74Fg3",
        "outputId": "32d47043-ca87-4569-fc5e-71cf090e5f1b"
      },
      "source": [
        "# Access the iterable in reverse\n",
        "print(l4)\n",
        "for item in reversed(l4):\n",
        "  print(item)"
      ],
      "execution_count": 43,
      "outputs": [
        {
          "output_type": "stream",
          "name": "stdout",
          "text": [
            "['Apple', 5, 'a', 3.4, False]\n",
            "False\n",
            "3.4\n",
            "a\n",
            "5\n",
            "Apple\n"
          ]
        }
      ]
    },
    {
      "cell_type": "code",
      "metadata": {
        "id": "RiayCeFY4M_c"
      },
      "source": [
        ""
      ],
      "execution_count": null,
      "outputs": []
    }
  ]
}