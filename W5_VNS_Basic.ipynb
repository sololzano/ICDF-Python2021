{
  "nbformat": 4,
  "nbformat_minor": 0,
  "metadata": {
    "colab": {
      "name": "W5_VNS_Basic.ipynb",
      "provenance": [],
      "collapsed_sections": [],
      "authorship_tag": "ABX9TyNnM/KKBm1LL839cnFyQia0",
      "include_colab_link": true
    },
    "kernelspec": {
      "name": "python3",
      "display_name": "Python 3"
    },
    "language_info": {
      "name": "python"
    }
  },
  "cells": [
    {
      "cell_type": "markdown",
      "metadata": {
        "id": "view-in-github",
        "colab_type": "text"
      },
      "source": [
        "<a href=\"https://colab.research.google.com/github/sololzano/ICDF-Python2021/blob/main/W5_VNS_Basic.ipynb\" target=\"_parent\"><img src=\"https://colab.research.google.com/assets/colab-badge.svg\" alt=\"Open In Colab\"/></a>"
      ]
    },
    {
      "cell_type": "markdown",
      "metadata": {
        "id": "cKENNbWs8c29"
      },
      "source": [
        "# Loops and NumPy - Traveling Salesman Problem"
      ]
    },
    {
      "cell_type": "code",
      "metadata": {
        "id": "1e-jK5xp9Xlp"
      },
      "source": [
        "# Import libraries\n",
        "from matplotlib import pyplot as plt\n",
        "import numpy as np"
      ],
      "execution_count": null,
      "outputs": []
    },
    {
      "cell_type": "markdown",
      "metadata": {
        "id": "SAp9x8Co08hR"
      },
      "source": [
        "## Define Cities and Distance Matrix"
      ]
    },
    {
      "cell_type": "code",
      "metadata": {
        "id": "Ez4f_jlh7Sg3"
      },
      "source": [
        "def get_cities(x_min, x_max, num_cities, seed = 0):\n",
        "  np.random.seed(seed)\n",
        "  cities = np.random.uniform(x_min, x_max, (num_cities, 2))\n",
        "  return cities"
      ],
      "execution_count": null,
      "outputs": []
    },
    {
      "cell_type": "code",
      "source": [
        "def get_distance_matrix(points):\n",
        "  dij = np.linalg.norm(points - points[:, None], axis=-1)\n",
        "  return dij"
      ],
      "metadata": {
        "id": "_g6sjw-RHTHX"
      },
      "execution_count": null,
      "outputs": []
    },
    {
      "cell_type": "code",
      "source": [
        "a = np.arange(1, 7).reshape(3, 2)\n",
        "print(a.shape)\n",
        "a"
      ],
      "metadata": {
        "colab": {
          "base_uri": "https://localhost:8080/"
        },
        "id": "Ak4x_qoFYK39",
        "outputId": "de9ab3c6-25e6-46f1-e35b-c585cbc1a263"
      },
      "execution_count": null,
      "outputs": [
        {
          "output_type": "stream",
          "name": "stdout",
          "text": [
            "(3, 2)\n"
          ]
        },
        {
          "output_type": "execute_result",
          "data": {
            "text/plain": [
              "array([[1, 2],\n",
              "       [3, 4],\n",
              "       [5, 6]])"
            ]
          },
          "metadata": {},
          "execution_count": 4
        }
      ]
    },
    {
      "cell_type": "code",
      "source": [
        "a[:, None].shape"
      ],
      "metadata": {
        "colab": {
          "base_uri": "https://localhost:8080/"
        },
        "id": "ucA_MfwZYSim",
        "outputId": "ee860456-2e8d-46d1-ed86-f499236f6811"
      },
      "execution_count": null,
      "outputs": [
        {
          "output_type": "execute_result",
          "data": {
            "text/plain": [
              "(3, 1, 2)"
            ]
          },
          "metadata": {},
          "execution_count": 5
        }
      ]
    },
    {
      "cell_type": "code",
      "source": [
        "a.reshape((3, 1, 2))"
      ],
      "metadata": {
        "colab": {
          "base_uri": "https://localhost:8080/"
        },
        "id": "BnRHHg-0Ycil",
        "outputId": "356ceec8-46a5-4dd1-ace3-d84fe4c32df1"
      },
      "execution_count": null,
      "outputs": [
        {
          "output_type": "execute_result",
          "data": {
            "text/plain": [
              "array([[[1, 2]],\n",
              "\n",
              "       [[3, 4]],\n",
              "\n",
              "       [[5, 6]]])"
            ]
          },
          "metadata": {},
          "execution_count": 6
        }
      ]
    },
    {
      "cell_type": "code",
      "source": [
        "d = np.linalg.norm(a - a[:, None], axis=-1)\n",
        "d"
      ],
      "metadata": {
        "colab": {
          "base_uri": "https://localhost:8080/"
        },
        "id": "Qqo6gJEsbWeJ",
        "outputId": "ae097169-30f1-4f02-830c-4c3e9b968106"
      },
      "execution_count": null,
      "outputs": [
        {
          "output_type": "execute_result",
          "data": {
            "text/plain": [
              "array([[0.        , 2.82842712, 5.65685425],\n",
              "       [2.82842712, 0.        , 2.82842712],\n",
              "       [5.65685425, 2.82842712, 0.        ]])"
            ]
          },
          "metadata": {},
          "execution_count": 7
        }
      ]
    },
    {
      "cell_type": "code",
      "source": [
        ""
      ],
      "metadata": {
        "colab": {
          "base_uri": "https://localhost:8080/"
        },
        "id": "Y_qtHu0HckTT",
        "outputId": "c8f569d8-7168-46a8-d4c4-3132564345ae"
      },
      "execution_count": null,
      "outputs": [
        {
          "output_type": "execute_result",
          "data": {
            "text/plain": [
              "array([[1.        , 3.82842712, 6.65685425],\n",
              "       [3.82842712, 1.        , 3.82842712],\n",
              "       [6.65685425, 3.82842712, 1.        ]])"
            ]
          },
          "metadata": {},
          "execution_count": 14
        }
      ]
    },
    {
      "cell_type": "code",
      "source": [
        "(d == (d.T)).all()"
      ],
      "metadata": {
        "colab": {
          "base_uri": "https://localhost:8080/"
        },
        "id": "0bBPH3x-b0Rp",
        "outputId": "ce4251bd-5ec3-4fbd-ac73-2e6daf861011"
      },
      "execution_count": null,
      "outputs": [
        {
          "output_type": "execute_result",
          "data": {
            "text/plain": [
              "True"
            ]
          },
          "metadata": {},
          "execution_count": 15
        }
      ]
    },
    {
      "cell_type": "markdown",
      "metadata": {
        "id": "lzR-ZMKY7fbx"
      },
      "source": [
        "## Calculate Traveling Cost"
      ]
    },
    {
      "cell_type": "code",
      "metadata": {
        "id": "WeTrGB-A7qrj"
      },
      "source": [
        "def total_cost(permutation, dij):\n",
        "  cost = 0.\n",
        "  for i in range(len(permutation) - 1):\n",
        "    cost += dij[permutation[i]][permutation[i+1]]\n",
        "  cost += dij[permutation[-1]][permutation[0]]\n",
        "  return cost"
      ],
      "execution_count": null,
      "outputs": []
    },
    {
      "cell_type": "code",
      "source": [
        ""
      ],
      "metadata": {
        "id": "1SPSMU1HfBiB"
      },
      "execution_count": null,
      "outputs": []
    },
    {
      "cell_type": "markdown",
      "metadata": {
        "id": "qUezWbyt74qZ"
      },
      "source": [
        "## Plot Cities and Connections"
      ]
    },
    {
      "cell_type": "code",
      "metadata": {
        "id": "uJSpfnDH8IvT"
      },
      "source": [
        "def plot_cities(points, permutation):\n",
        "  p = points[permutation]\n",
        "  fig, ax = plt.subplots(figsize=(12, 8))\n",
        "  ax.scatter(p[1:, 0], p[1:, 1], s=150, c='steelblue')\n",
        "  ax.scatter(p[0, 0], p[0, 1], s=200, c='purple', marker='s')\n",
        "  ax.plot(p[:, 0], p[:, 1], c='crimson')\n",
        "  ax.plot(p[[-1, 0], 0], p[[-1, 0], 1], c='crimson')\n",
        "  ax.grid()\n",
        "\n",
        "  for i, _ in enumerate(points):\n",
        "    ax.annotate(str(i + 1), (points[i, 0] + 10, points[i, 1] - 5), fontsize=16)"
      ],
      "execution_count": null,
      "outputs": []
    },
    {
      "cell_type": "markdown",
      "source": [
        "# Import Data"
      ],
      "metadata": {
        "id": "PnqWQa-VKz50"
      }
    },
    {
      "cell_type": "code",
      "source": [
        "# Get data points (X, Y) for Western Bays Transport System\n",
        "solution = [0, 27, 5, 11, 8, 25, 2, 28, 4, 20, 1, 19, 9, 3, 14, 17, 13, 16, 21, 10, 18, 24, 6, 22, 7, 26, 15, 12, 23]\n",
        "solution_cost = 9074.1\n",
        "f = np.loadtxt('https://raw.githubusercontent.com/sololzano/2021-Python-Optimization-Lab/main/TSP_Data/Bays.tsp')\n",
        "print(f.shape)\n",
        "print(f[0])"
      ],
      "metadata": {
        "id": "xvb3DMXbMPxK",
        "colab": {
          "base_uri": "https://localhost:8080/"
        },
        "outputId": "6f21d138-1d8c-4542-e6af-cfc3407fe031"
      },
      "execution_count": null,
      "outputs": [
        {
          "output_type": "stream",
          "name": "stdout",
          "text": [
            "(29, 3)\n",
            "[1.00e+00 1.15e+03 1.76e+03]\n"
          ]
        }
      ]
    },
    {
      "cell_type": "code",
      "source": [
        "cities = f[:, 1:]\n",
        "bays_dij = get_distance_matrix(cities)\n",
        "print(bays_dij.shape)\n",
        "(bays_dij == bays_dij.T).all()"
      ],
      "metadata": {
        "colab": {
          "base_uri": "https://localhost:8080/"
        },
        "id": "EiOtKJ1RhVb1",
        "outputId": "277ac303-29f6-4e73-9eb4-18f00de6543a"
      },
      "execution_count": null,
      "outputs": [
        {
          "output_type": "stream",
          "name": "stdout",
          "text": [
            "(29, 29)\n"
          ]
        },
        {
          "output_type": "execute_result",
          "data": {
            "text/plain": [
              "True"
            ]
          },
          "metadata": {},
          "execution_count": 23
        }
      ]
    },
    {
      "cell_type": "code",
      "source": [
        "# Get random permutation\n",
        "p = np.random.permutation(len(f))\n",
        "total_cost(solution, bays_dij)"
      ],
      "metadata": {
        "id": "xZty7yGHjm1f",
        "outputId": "68376f5e-b088-47d1-bfb1-5a3ab9594712",
        "colab": {
          "base_uri": "https://localhost:8080/"
        }
      },
      "execution_count": null,
      "outputs": [
        {
          "output_type": "execute_result",
          "data": {
            "text/plain": [
              "9074.14804787284"
            ]
          },
          "metadata": {},
          "execution_count": 33
        }
      ]
    },
    {
      "cell_type": "code",
      "source": [
        "plot_cities(cities, solution)"
      ],
      "metadata": {
        "id": "kq_1Op-jkf5o",
        "outputId": "661c2408-0fe1-4a2d-af30-50153f61589a",
        "colab": {
          "base_uri": "https://localhost:8080/",
          "height": 483
        }
      },
      "execution_count": null,
      "outputs": [
        {
          "output_type": "display_data",
          "data": {
            "image/png": "[encoded data removed]",
            "text/plain": [
              "<Figure size 864x576 with 1 Axes>"
            ]
          },
          "metadata": {
            "needs_background": "light"
          }
        }
      ]
    },
    {
      "cell_type": "code",
      "source": [
        "# Data points for Burma 14 TSP\n",
        "f2 = np.loadtxt('https://raw.githubusercontent.com/sololzano/ICDF-Python2021/main/burma14.tsp')"
      ],
      "metadata": {
        "id": "D55FhcS0QXds"
      },
      "execution_count": null,
      "outputs": []
    },
    {
      "cell_type": "markdown",
      "metadata": {
        "id": "RDqYrrMl8hub"
      },
      "source": [
        "## Generate Solutions"
      ]
    },
    {
      "cell_type": "code",
      "metadata": {
        "id": "Pf7Tg8g39X7B"
      },
      "source": [
        "def get_random_permutation(permutation):\n",
        "  return permutation"
      ],
      "execution_count": null,
      "outputs": []
    },
    {
      "cell_type": "code",
      "source": [
        "def nearest_neighbor_algorithm(dij, random=False):\n",
        "  return 0"
      ],
      "metadata": {
        "id": "4aTpey2FMV3Q"
      },
      "execution_count": null,
      "outputs": []
    },
    {
      "cell_type": "markdown",
      "metadata": {
        "id": "p8nP9wuK9c1C"
      },
      "source": [
        "## Neighborhood Search"
      ]
    },
    {
      "cell_type": "code",
      "metadata": {
        "id": "Lz7VGk8a9jsi"
      },
      "source": [
        "def swap_algorithm(permutation, dij):\n",
        "  return permutation"
      ],
      "execution_count": null,
      "outputs": []
    },
    {
      "cell_type": "code",
      "source": [
        "def two_opt(permutation, dij):\n",
        "  return permutation"
      ],
      "metadata": {
        "id": "dPWBb8mBMlMl"
      },
      "execution_count": null,
      "outputs": []
    },
    {
      "cell_type": "markdown",
      "metadata": {
        "id": "hTmC4vSn9nNs"
      },
      "source": [
        "## Variable Neighborhood Search"
      ]
    },
    {
      "cell_type": "code",
      "metadata": {
        "id": "kYLW3xSB9sXb"
      },
      "source": [
        "def vns(search_list, cities, distance_matrix):\n",
        "  return 0"
      ],
      "execution_count": null,
      "outputs": []
    }
  ]
}